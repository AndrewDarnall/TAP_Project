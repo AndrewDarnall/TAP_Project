{
 "cells": [
  {
   "cell_type": "markdown",
   "id": "2a736af9",
   "metadata": {},
   "source": [
    "# BERTopic\n",
    "\n",
    "BERTopic is a formidable topic modelling model, it performs a lot better than the classic LDA model and has an exquisitly plesant feature of inferring the topic, again, another feature that LDA lacks\n",
    "\n",
    "This notebook is a support for the training process of the model that I will use in my TAP project"
   ]
  },
  {
   "cell_type": "code",
   "execution_count": 1,
   "id": "36b68e42",
   "metadata": {},
   "outputs": [
    {
     "name": "stdout",
     "output_type": "stream",
     "text": [
      "Bundesregierung will WHO stärken #Gesundheitspolitik #Antwort #Bundestag Die Bundesregierung kündigt in einer Antwort auf AfD-Anfrage, die Weltgesundheitsorganisation stärken zu wollen. https://www.bundestag.de/presse/hib/kurzmeldungen-962478\n",
      "지난 8월 12일 방송 \"시청자가 먹은 음식 리뷰하기\"https://blog.naver.com/bahnbazi/223113167253#ScienceFiction\n",
      "Hagi cookin' 😤\n",
      "황마법 불가능성 정리https://blog.naver.com/bahnbazi/223089282021#ScienceFiction\n",
      "Visa Faces DOJ Scrutiny for How It Prices ‘Token’ TechnologyVisa Inc. is facing fresh scrutiny from the US Justice Department over how it charges merchants for technology it uses to protect cardholder information. #presshttps://www.bloomberg.com/news/articles/2023-08-16/visa-v-faces-doj-probe-for-how-it-prices-tokenization-technology?utm_source=press.coop\n",
      "String list length:\t220559\n"
     ]
    }
   ],
   "source": [
    "# Since the BERTopic object accepts a list of strings as an input, the following snippet transforms the dataset (which is in .txt format) into said string list\n",
    "docs = []\n",
    "\n",
    "# Specify the encoding to avoid issues in Windows\n",
    "with open('C:\\Added_Software\\GitHub_Repos\\Data\\processed_mastodon_dataset_big.txt', 'r', encoding='utf-8') as file:\n",
    "    for line in file:\n",
    "        docs.append(line.strip())\n",
    "\n",
    "# ~ head 5\n",
    "for i in range(5):\n",
    "  print(docs[i])\n",
    "\n",
    "# Show the list length, just to check\n",
    "print(\"String list length:\\t{}\".format(len(docs)))"
   ]
  },
  {
   "cell_type": "code",
   "execution_count": null,
   "id": "656eb6b3",
   "metadata": {},
   "outputs": [
    {
     "name": "stderr",
     "output_type": "stream",
     "text": [
      "C:\\Users\\adarnall\\AppData\\Local\\Programs\\Python\\Python39\\lib\\site-packages\\umap\\distances.py:1063: NumbaDeprecationWarning: \u001b[1mThe 'nopython' keyword argument was not supplied to the 'numba.jit' decorator. The implicit default value for this argument is currently False, but it will be changed to True in Numba 0.59.0. See https://numba.readthedocs.io/en/stable/reference/deprecation.html#deprecation-of-object-mode-fall-back-behaviour-when-using-jit for details.\u001b[0m\n",
      "  @numba.jit()\n",
      "C:\\Users\\adarnall\\AppData\\Local\\Programs\\Python\\Python39\\lib\\site-packages\\umap\\distances.py:1071: NumbaDeprecationWarning: \u001b[1mThe 'nopython' keyword argument was not supplied to the 'numba.jit' decorator. The implicit default value for this argument is currently False, but it will be changed to True in Numba 0.59.0. See https://numba.readthedocs.io/en/stable/reference/deprecation.html#deprecation-of-object-mode-fall-back-behaviour-when-using-jit for details.\u001b[0m\n",
      "  @numba.jit()\n",
      "C:\\Users\\adarnall\\AppData\\Local\\Programs\\Python\\Python39\\lib\\site-packages\\umap\\distances.py:1086: NumbaDeprecationWarning: \u001b[1mThe 'nopython' keyword argument was not supplied to the 'numba.jit' decorator. The implicit default value for this argument is currently False, but it will be changed to True in Numba 0.59.0. See https://numba.readthedocs.io/en/stable/reference/deprecation.html#deprecation-of-object-mode-fall-back-behaviour-when-using-jit for details.\u001b[0m\n",
      "  @numba.jit()\n",
      "C:\\Users\\adarnall\\AppData\\Local\\Programs\\Python\\Python39\\lib\\site-packages\\umap\\umap_.py:660: NumbaDeprecationWarning: \u001b[1mThe 'nopython' keyword argument was not supplied to the 'numba.jit' decorator. The implicit default value for this argument is currently False, but it will be changed to True in Numba 0.59.0. See https://numba.readthedocs.io/en/stable/reference/deprecation.html#deprecation-of-object-mode-fall-back-behaviour-when-using-jit for details.\u001b[0m\n",
      "  @numba.jit()\n"
     ]
    },
    {
     "data": {
      "application/json": {
       "ascii": false,
       "bar_format": null,
       "colour": null,
       "elapsed": 0.00500798225402832,
       "initial": 0,
       "n": 0,
       "ncols": null,
       "nrows": 29,
       "postfix": null,
       "prefix": "Batches",
       "rate": null,
       "total": 6893,
       "unit": "it",
       "unit_divisor": 1000,
       "unit_scale": false
      },
      "application/vnd.jupyter.widget-view+json": {
       "model_id": "5463421a8f1047189f7251e74aa4405c",
       "version_major": 2,
       "version_minor": 0
      },
      "text/plain": [
       "Batches:   0%|          | 0/6893 [00:00<?, ?it/s]"
      ]
     },
     "metadata": {},
     "output_type": "display_data"
    },
    {
     "name": "stderr",
     "output_type": "stream",
     "text": [
      "2023-08-18 21:30:09,253 - BERTopic - Transformed documents to Embeddings\n"
     ]
    }
   ],
   "source": [
    "# This is the most computationally intensive portion of the notebook, the trainig phase\n",
    "# Without the hardware acceleration so kindly offered by google, it would've definitely\n",
    "# Taken MUCH longer to train this model\n",
    "from bertopic import BERTopic\n",
    "\n",
    "topic_model = BERTopic(embedding_model=\"all-MiniLM-L6-v2\", verbose=True)\n",
    "\n",
    "# topic_model.get_topic_info()\n",
    "topics, probs = topic_model.fit_transform(docs)"
   ]
  },
  {
   "cell_type": "code",
   "execution_count": null,
   "id": "c0ca5173",
   "metadata": {},
   "outputs": [],
   "source": [
    "topic_model.get_topic_info()"
   ]
  },
  {
   "cell_type": "code",
   "execution_count": null,
   "id": "fda071fa",
   "metadata": {},
   "outputs": [],
   "source": [
    "# Saving the model locally\n",
    "topic_model.save(\"./Data_Processing/models/CPU_trained_bert_model.pkl\", serialization=\"pickle\", save_embedding_model=True, save_ctfidf=True)"
   ]
  },
  {
   "cell_type": "code",
   "execution_count": null,
   "id": "ac625508",
   "metadata": {},
   "outputs": [],
   "source": [
    "# Showing portions of the trained model\n",
    "topic_model.visualize_barchart()"
   ]
  },
  {
   "cell_type": "code",
   "execution_count": null,
   "id": "eeb9a4d0",
   "metadata": {},
   "outputs": [],
   "source": [
    "topic_model.visualize_topics()"
   ]
  },
  {
   "cell_type": "code",
   "execution_count": null,
   "id": "5c332cae",
   "metadata": {},
   "outputs": [],
   "source": [
    "print(\"Succesfully saved and explored the BERTopic model!\")"
   ]
  },
  {
   "cell_type": "code",
   "execution_count": null,
   "id": "4766013b",
   "metadata": {},
   "outputs": [],
   "source": [
    "# Attempting to save in an alternative form the BERTopic model along with its context\n",
    "import joblib\n",
    "\n",
    "# Save the model using joblib\n",
    "model_filename = \"./Data_Processing/models/CPU_job_trained_bert_model.pkl\"\n",
    "joblib.dump(topic_model, model_filename)\n",
    "\n",
    "print(\"Successfully saved the trained BERTopic model along with data, with joblib\")"
   ]
  },
  {
   "cell_type": "code",
   "execution_count": null,
   "id": "e89f3ba0",
   "metadata": {},
   "outputs": [],
   "source": []
  }
 ],
 "metadata": {
  "kernelspec": {
   "display_name": "Python 3 (ipykernel)",
   "language": "python",
   "name": "python3"
  },
  "language_info": {
   "codemirror_mode": {
    "name": "ipython",
    "version": 3
   },
   "file_extension": ".py",
   "mimetype": "text/x-python",
   "name": "python",
   "nbconvert_exporter": "python",
   "pygments_lexer": "ipython3",
   "version": "3.9.6"
  }
 },
 "nbformat": 4,
 "nbformat_minor": 5
}
